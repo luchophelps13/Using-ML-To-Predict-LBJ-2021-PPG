{
  "nbformat": 4,
  "nbformat_minor": 0,
  "metadata": {
    "colab": {
      "name": "LBJregression.ipynb",
      "provenance": [],
      "collapsed_sections": []
    },
    "kernelspec": {
      "name": "python3",
      "display_name": "Python 3"
    }
  },
  "cells": [
    {
      "cell_type": "markdown",
      "metadata": {
        "id": "Pu45U-n57WPC"
      },
      "source": [
        "# Libraries"
      ]
    },
    {
      "cell_type": "code",
      "metadata": {
        "id": "-UMJSE4d7WZe"
      },
      "source": [
        "# x = season, y = PPG for that season\r\n",
        "\r\n",
        "import numpy as np\r\n",
        "import pandas as pd\r\n",
        "import matplotlib.pyplot as plt\r\n",
        "from sklearn.model_selection import train_test_split \r\n",
        "from sklearn.linear_model import LinearRegression\r\n",
        "from sklearn import metrics"
      ],
      "execution_count": null,
      "outputs": []
    },
    {
      "cell_type": "markdown",
      "metadata": {
        "id": "3WzvtQFT7abc"
      },
      "source": [
        "# Creating Variables and Graph"
      ]
    },
    {
      "cell_type": "code",
      "metadata": {
        "colab": {
          "base_uri": "https://localhost:8080/",
          "height": 295
        },
        "id": "hEJiXrk6vw6X",
        "outputId": "7a92817a-a03d-4613-d0b7-6ec598da2f5c"
      },
      "source": [
        "x = np.arange(2004, 2021, 1)\r\n",
        "y = np.array([20.9, 27.2, 31.4, 27.3, 30.0, 28.4, 29.7, 26.7, 27.1, 26.8, 27.1, 25.3, 25.3, 26.4, 27.5, 27.4, 25.7])\r\n",
        "\r\n",
        "plt.scatter(x, y)\r\n",
        "\r\n",
        "plt.xlabel('Season')\r\n",
        "plt.ylabel('Points Per Game')\r\n",
        "plt.title(\"Lebron James' PPG at each Age\")\r\n",
        "plt.grid()\r\n",
        "plt.show()"
      ],
      "execution_count": 24,
      "outputs": [
        {
          "output_type": "display_data",
          "data": {
            "image/png": "[encoded data removed]",
            "text/plain": [
              "<Figure size 432x288 with 1 Axes>"
            ]
          },
          "metadata": {
            "tags": [],
            "needs_background": "light"
          }
        }
      ]
    },
    {
      "cell_type": "markdown",
      "metadata": {
        "id": "q6Jc8OXmwODk"
      },
      "source": [
        "# Reshaping & Splitting Data"
      ]
    },
    {
      "cell_type": "code",
      "metadata": {
        "colab": {
          "base_uri": "https://localhost:8080/"
        },
        "id": "mqkkIL0Gv_ew",
        "outputId": "fb562a20-ef7b-44d5-f7c8-82335457cdcb"
      },
      "source": [
        "# Reshaping & Splitting Data \r\n",
        "\r\n",
        "x = x.reshape(-1, 1)\r\n",
        "y = y.reshape(-1, 1)\r\n",
        "print('x:', x, '\\n\\n', 'y:', y)"
      ],
      "execution_count": 25,
      "outputs": [
        {
          "output_type": "stream",
          "text": [
            "x: [[2004]\n",
            " [2005]\n",
            " [2006]\n",
            " [2007]\n",
            " [2008]\n",
            " [2009]\n",
            " [2010]\n",
            " [2011]\n",
            " [2012]\n",
            " [2013]\n",
            " [2014]\n",
            " [2015]\n",
            " [2016]\n",
            " [2017]\n",
            " [2018]\n",
            " [2019]\n",
            " [2020]] \n",
            "\n",
            " y: [[20.9]\n",
            " [27.2]\n",
            " [31.4]\n",
            " [27.3]\n",
            " [30. ]\n",
            " [28.4]\n",
            " [29.7]\n",
            " [26.7]\n",
            " [27.1]\n",
            " [26.8]\n",
            " [27.1]\n",
            " [25.3]\n",
            " [25.3]\n",
            " [26.4]\n",
            " [27.5]\n",
            " [27.4]\n",
            " [25.7]]\n"
          ],
          "name": "stdout"
        }
      ]
    },
    {
      "cell_type": "code",
      "metadata": {
        "id": "LKV0F8WqxixC"
      },
      "source": [
        "train_x, test_x, train_y, test_y = train_test_split(x, y, test_size=0.23529411765, random_state=0) # Test size is 4/17 seasons"
      ],
      "execution_count": 26,
      "outputs": []
    },
    {
      "cell_type": "markdown",
      "metadata": {
        "id": "xau2dAxqxrqd"
      },
      "source": [
        "## Setting up Linear Regression Model"
      ]
    },
    {
      "cell_type": "code",
      "metadata": {
        "colab": {
          "base_uri": "https://localhost:8080/"
        },
        "id": "kWhw8GYZx3CT",
        "outputId": "b07c5154-8363-44df-b033-5717021a87ba"
      },
      "source": [
        "regressor = LinearRegression()\r\n",
        "\r\n",
        "regressor.fit(train_x, train_y)\r\n",
        "\r\n",
        "#To retrieve the y-intercept:\r\n",
        "print(regressor.intercept_)\r\n",
        "#For retrieving the slope:\r\n",
        "print(regressor.coef_)\r\n",
        "#His predicted PPG (with outliers, decreases at around .03 PPG per season)"
      ],
      "execution_count": 27,
      "outputs": [
        {
          "output_type": "stream",
          "text": [
            "[94.65577558]\n",
            "[[-0.03366337]]\n"
          ],
          "name": "stdout"
        }
      ]
    },
    {
      "cell_type": "markdown",
      "metadata": {
        "id": "kU0GEqTPzSg5"
      },
      "source": [
        "# Predicting Future Values"
      ]
    },
    {
      "cell_type": "code",
      "metadata": {
        "colab": {
          "base_uri": "https://localhost:8080/",
          "height": 279
        },
        "id": "GECeSrwMzS57",
        "outputId": "86518662-01d9-486c-cf33-e4574a0092e8"
      },
      "source": [
        "y_pred = regressor.predict(test_x)\r\n",
        "\r\n",
        "# In[156]:\r\n",
        "\r\n",
        "\r\n",
        "df = pd.DataFrame({'Actual': test_y.flatten(), 'Predicted': y_pred.flatten()})\r\n",
        "df\r\n",
        "\r\n",
        "\r\n",
        "# In[157]:\r\n",
        "\r\n",
        "plt.scatter(test_x, test_y, label = 'Actual PPG')\r\n",
        "plt.scatter(test_x, y_pred, label = 'Predicted PPG')\r\n",
        "plt.xlabel('Season')\r\n",
        "plt.ylabel('Points Per Game')\r\n",
        "plt.grid()\r\n",
        "plt.legend()\r\n",
        "plt.text(2008, 29.65, \"Outlier →\")\r\n",
        "plt.show()"
      ],
      "execution_count": 30,
      "outputs": [
        {
          "output_type": "display_data",
          "data": {
            "image/png": "[encoded data removed]",
            "text/plain": [
              "<Figure size 432x288 with 1 Axes>"
            ]
          },
          "metadata": {
            "tags": [],
            "needs_background": "light"
          }
        }
      ]
    },
    {
      "cell_type": "markdown",
      "metadata": {
        "id": "AjMuR3L90D7u"
      },
      "source": [
        "# Regression Line"
      ]
    },
    {
      "cell_type": "code",
      "metadata": {
        "colab": {
          "base_uri": "https://localhost:8080/",
          "height": 924
        },
        "id": "APXw4-El0PFu",
        "outputId": "c2083cac-c578-4a1b-e751-6d8cadaec14d"
      },
      "source": [
        "# I tried using 3/17 and 5/17 of the columns for test (you usually want to stay between 20-30%) but that led to higher errors\r\n",
        "\r\n",
        "\r\n",
        "# # Prediction\r\n",
        "\r\n",
        "# Predicting 2020-2021 PPG (Assuming MPG, FG%, etc stay relatively the same)\r\n",
        "\r\n",
        "plt.plot(x, y, label = \"Career PPG\")\r\n",
        "plt.plot(test_x, y_pred, label = \"Predicted PPG\")\r\n",
        "plt.xlabel('Season')\r\n",
        "plt.ylabel('PPG')\r\n",
        "plt.title(\"Lebron's PPG Per Season\")\r\n",
        "plt.grid()\r\n",
        "plt.legend(loc = \"lower right\")\r\n",
        "plt.show()\r\n",
        "\r\n",
        "xnew = np.array([2021])\r\n",
        "xnew = xnew.reshape(-1, 1)\r\n",
        "\r\n",
        "x.reshape(-1, 1)\r\n",
        "\r\n",
        "x_new = np.concatenate((x, xnew))\r\n",
        "\r\n",
        "ynew = regressor.predict(xnew)\r\n",
        "\r\n",
        "y_new = np.concatenate((y, ynew))\r\n",
        "\r\n",
        "print(x_new, \"\\n\")\r\n",
        "print(y_new)"
      ],
      "execution_count": 33,
      "outputs": [
        {
          "output_type": "display_data",
          "data": {
            "image/png": "[encoded data removed]",
            "text/plain": [
              "<Figure size 432x288 with 1 Axes>"
            ]
          },
          "metadata": {
            "tags": [],
            "needs_background": "light"
          }
        },
        {
          "output_type": "stream",
          "text": [
            "[[2004]\n",
            " [2005]\n",
            " [2006]\n",
            " [2007]\n",
            " [2008]\n",
            " [2009]\n",
            " [2010]\n",
            " [2011]\n",
            " [2012]\n",
            " [2013]\n",
            " [2014]\n",
            " [2015]\n",
            " [2016]\n",
            " [2017]\n",
            " [2018]\n",
            " [2019]\n",
            " [2020]\n",
            " [2021]] \n",
            "\n",
            "[[20.9       ]\n",
            " [27.2       ]\n",
            " [31.4       ]\n",
            " [27.3       ]\n",
            " [30.        ]\n",
            " [28.4       ]\n",
            " [29.7       ]\n",
            " [26.7       ]\n",
            " [27.1       ]\n",
            " [26.8       ]\n",
            " [27.1       ]\n",
            " [25.3       ]\n",
            " [25.3       ]\n",
            " [26.4       ]\n",
            " [27.5       ]\n",
            " [27.4       ]\n",
            " [25.7       ]\n",
            " [26.62211221]]\n"
          ],
          "name": "stdout"
        }
      ]
    },
    {
      "cell_type": "markdown",
      "metadata": {
        "id": "QO2gT-Ql2QAZ"
      },
      "source": [
        "# Predicting PPG for 2020-2021"
      ]
    },
    {
      "cell_type": "code",
      "metadata": {
        "colab": {
          "base_uri": "https://localhost:8080/",
          "height": 528
        },
        "id": "JiTEucQE2QVL",
        "outputId": "7a7d6a88-9361-4b71-8117-4e249c55e656"
      },
      "source": [
        "plt.figure(figsize=(10, 8))\r\n",
        "plt.scatter(x, y, label = \"Career PPG\")\r\n",
        "plt.plot(x_new[-1], y_new[-1], \"ro\", label = \"Predicted PPG in 2020-2021\")\r\n",
        "#plt.plot(x_new, y_new, label = \"Predicted PPG in 2020-2021\")\r\n",
        "plt.xlabel('Season')\r\n",
        "plt.ylabel('PPG')\r\n",
        "plt.title(\"Lebron's PPG Per Season\")\r\n",
        "plt.grid()\r\n",
        "plt.legend(loc = \"lower right\")\r\n",
        "plt.xticks(x, rotation = 90)\r\n",
        "plt.text(2020.3, 26.15, str(np.round(y_new[-1], 2)).strip(\"[]\") + \" PPG\", fontdict = {\"size\" : \"9\"})\r\n",
        "plt.show()"
      ],
      "execution_count": 64,
      "outputs": [
        {
          "output_type": "display_data",
          "data": {
            "image/png": "[encoded data removed]",
            "text/plain": [
              "<Figure size 720x576 with 1 Axes>"
            ]
          },
          "metadata": {
            "tags": [],
            "needs_background": "light"
          }
        }
      ]
    }
  ]
}
